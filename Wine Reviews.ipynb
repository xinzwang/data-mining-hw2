{
 "cells": [
  {
   "cell_type": "markdown",
   "metadata": {},
   "source": [
    "# 频繁模式与关联规则挖掘"
   ]
  },
  {
   "cell_type": "code",
   "execution_count": 1,
   "metadata": {},
   "outputs": [],
   "source": [
    "import json\n",
    "import pandas as pd\n",
    "import numpy as np\n",
    "import pyfpgrowth\n",
    "from matplotlib import pyplot as plt\n",
    "import seaborn as sns\n",
    "sns.set(style=\"darkgrid\") #这是seaborn默认的风格\n",
    "pd.set_option('precision',3) #设置数据精度\n",
    "\n",
    "%matplotlib inline"
   ]
  },
  {
   "cell_type": "markdown",
   "metadata": {},
   "source": [
    "## 0 数据读取\n",
    "首先读取数据，并展示数据的基本特征。我们选用[Wine Reviews](https://www.kaggle.com/datasets/zynicide/wine-reviews)数据集进行分析"
   ]
  },
  {
   "cell_type": "code",
   "execution_count": 2,
   "metadata": {},
   "outputs": [
    {
     "data": {
      "text/html": [
       "<div>\n",
       "<style scoped>\n",
       "    .dataframe tbody tr th:only-of-type {\n",
       "        vertical-align: middle;\n",
       "    }\n",
       "\n",
       "    .dataframe tbody tr th {\n",
       "        vertical-align: top;\n",
       "    }\n",
       "\n",
       "    .dataframe thead th {\n",
       "        text-align: right;\n",
       "    }\n",
       "</style>\n",
       "<table border=\"1\" class=\"dataframe\">\n",
       "  <thead>\n",
       "    <tr style=\"text-align: right;\">\n",
       "      <th></th>\n",
       "      <th>country</th>\n",
       "      <th>description</th>\n",
       "      <th>designation</th>\n",
       "      <th>points</th>\n",
       "      <th>price</th>\n",
       "      <th>province</th>\n",
       "      <th>region_1</th>\n",
       "      <th>region_2</th>\n",
       "      <th>taster_name</th>\n",
       "      <th>taster_twitter_handle</th>\n",
       "      <th>title</th>\n",
       "      <th>variety</th>\n",
       "      <th>winery</th>\n",
       "    </tr>\n",
       "  </thead>\n",
       "  <tbody>\n",
       "    <tr>\n",
       "      <th>0</th>\n",
       "      <td>Italy</td>\n",
       "      <td>Aromas include tropical fruit, broom, brimston...</td>\n",
       "      <td>Vulkà Bianco</td>\n",
       "      <td>87</td>\n",
       "      <td>NaN</td>\n",
       "      <td>Sicily &amp; Sardinia</td>\n",
       "      <td>Etna</td>\n",
       "      <td>NaN</td>\n",
       "      <td>Kerin O’Keefe</td>\n",
       "      <td>@kerinokeefe</td>\n",
       "      <td>Nicosia 2013 Vulkà Bianco  (Etna)</td>\n",
       "      <td>White Blend</td>\n",
       "      <td>Nicosia</td>\n",
       "    </tr>\n",
       "    <tr>\n",
       "      <th>1</th>\n",
       "      <td>Portugal</td>\n",
       "      <td>This is ripe and fruity, a wine that is smooth...</td>\n",
       "      <td>Avidagos</td>\n",
       "      <td>87</td>\n",
       "      <td>15.0</td>\n",
       "      <td>Douro</td>\n",
       "      <td>NaN</td>\n",
       "      <td>NaN</td>\n",
       "      <td>Roger Voss</td>\n",
       "      <td>@vossroger</td>\n",
       "      <td>Quinta dos Avidagos 2011 Avidagos Red (Douro)</td>\n",
       "      <td>Portuguese Red</td>\n",
       "      <td>Quinta dos Avidagos</td>\n",
       "    </tr>\n",
       "    <tr>\n",
       "      <th>2</th>\n",
       "      <td>US</td>\n",
       "      <td>Tart and snappy, the flavors of lime flesh and...</td>\n",
       "      <td>NaN</td>\n",
       "      <td>87</td>\n",
       "      <td>14.0</td>\n",
       "      <td>Oregon</td>\n",
       "      <td>Willamette Valley</td>\n",
       "      <td>Willamette Valley</td>\n",
       "      <td>Paul Gregutt</td>\n",
       "      <td>@paulgwine</td>\n",
       "      <td>Rainstorm 2013 Pinot Gris (Willamette Valley)</td>\n",
       "      <td>Pinot Gris</td>\n",
       "      <td>Rainstorm</td>\n",
       "    </tr>\n",
       "    <tr>\n",
       "      <th>3</th>\n",
       "      <td>US</td>\n",
       "      <td>Pineapple rind, lemon pith and orange blossom ...</td>\n",
       "      <td>Reserve Late Harvest</td>\n",
       "      <td>87</td>\n",
       "      <td>13.0</td>\n",
       "      <td>Michigan</td>\n",
       "      <td>Lake Michigan Shore</td>\n",
       "      <td>NaN</td>\n",
       "      <td>Alexander Peartree</td>\n",
       "      <td>NaN</td>\n",
       "      <td>St. Julian 2013 Reserve Late Harvest Riesling ...</td>\n",
       "      <td>Riesling</td>\n",
       "      <td>St. Julian</td>\n",
       "    </tr>\n",
       "    <tr>\n",
       "      <th>4</th>\n",
       "      <td>US</td>\n",
       "      <td>Much like the regular bottling from 2012, this...</td>\n",
       "      <td>Vintner's Reserve Wild Child Block</td>\n",
       "      <td>87</td>\n",
       "      <td>65.0</td>\n",
       "      <td>Oregon</td>\n",
       "      <td>Willamette Valley</td>\n",
       "      <td>Willamette Valley</td>\n",
       "      <td>Paul Gregutt</td>\n",
       "      <td>@paulgwine</td>\n",
       "      <td>Sweet Cheeks 2012 Vintner's Reserve Wild Child...</td>\n",
       "      <td>Pinot Noir</td>\n",
       "      <td>Sweet Cheeks</td>\n",
       "    </tr>\n",
       "  </tbody>\n",
       "</table>\n",
       "</div>"
      ],
      "text/plain": [
       "    country                                        description  \\\n",
       "0     Italy  Aromas include tropical fruit, broom, brimston...   \n",
       "1  Portugal  This is ripe and fruity, a wine that is smooth...   \n",
       "2        US  Tart and snappy, the flavors of lime flesh and...   \n",
       "3        US  Pineapple rind, lemon pith and orange blossom ...   \n",
       "4        US  Much like the regular bottling from 2012, this...   \n",
       "\n",
       "                          designation  points  price           province  \\\n",
       "0                        Vulkà Bianco      87    NaN  Sicily & Sardinia   \n",
       "1                            Avidagos      87   15.0              Douro   \n",
       "2                                 NaN      87   14.0             Oregon   \n",
       "3                Reserve Late Harvest      87   13.0           Michigan   \n",
       "4  Vintner's Reserve Wild Child Block      87   65.0             Oregon   \n",
       "\n",
       "              region_1           region_2         taster_name  \\\n",
       "0                 Etna                NaN       Kerin O’Keefe   \n",
       "1                  NaN                NaN          Roger Voss   \n",
       "2    Willamette Valley  Willamette Valley        Paul Gregutt   \n",
       "3  Lake Michigan Shore                NaN  Alexander Peartree   \n",
       "4    Willamette Valley  Willamette Valley        Paul Gregutt   \n",
       "\n",
       "  taster_twitter_handle                                              title  \\\n",
       "0          @kerinokeefe                  Nicosia 2013 Vulkà Bianco  (Etna)   \n",
       "1            @vossroger      Quinta dos Avidagos 2011 Avidagos Red (Douro)   \n",
       "2           @paulgwine       Rainstorm 2013 Pinot Gris (Willamette Valley)   \n",
       "3                   NaN  St. Julian 2013 Reserve Late Harvest Riesling ...   \n",
       "4           @paulgwine   Sweet Cheeks 2012 Vintner's Reserve Wild Child...   \n",
       "\n",
       "          variety               winery  \n",
       "0     White Blend              Nicosia  \n",
       "1  Portuguese Red  Quinta dos Avidagos  \n",
       "2      Pinot Gris            Rainstorm  \n",
       "3        Riesling           St. Julian  \n",
       "4      Pinot Noir         Sweet Cheeks  "
      ]
     },
     "execution_count": 2,
     "metadata": {},
     "output_type": "execute_result"
    }
   ],
   "source": [
    "data_csv = \"/home/wxz/codes/datasets/Wine Reviews/winemag-data-130k-v2.csv\"\n",
    "data = pd.read_csv(data_csv,index_col=0)\n",
    "data.head()"
   ]
  },
  {
   "cell_type": "markdown",
   "metadata": {},
   "source": [
    "下面是数据集各个字段的属性信息。这里注意几个关键字段的意义，我们在后续的分析中将重点考虑这几个字段。\n",
    "\n",
    "* points：评分\n",
    "* price：价格\n",
    "* variety：葡萄种类\n",
    "* country：产地所属国家\n",
    "* winery：酒厂名称\n",
    "* taster_name：品酒师"
   ]
  },
  {
   "cell_type": "code",
   "execution_count": 3,
   "metadata": {},
   "outputs": [
    {
     "name": "stdout",
     "output_type": "stream",
     "text": [
      "<class 'pandas.core.frame.DataFrame'>\n",
      "Int64Index: 129971 entries, 0 to 129970\n",
      "Data columns (total 13 columns):\n",
      " #   Column                 Non-Null Count   Dtype  \n",
      "---  ------                 --------------   -----  \n",
      " 0   country                129908 non-null  object \n",
      " 1   description            129971 non-null  object \n",
      " 2   designation            92506 non-null   object \n",
      " 3   points                 129971 non-null  int64  \n",
      " 4   price                  120975 non-null  float64\n",
      " 5   province               129908 non-null  object \n",
      " 6   region_1               108724 non-null  object \n",
      " 7   region_2               50511 non-null   object \n",
      " 8   taster_name            103727 non-null  object \n",
      " 9   taster_twitter_handle  98758 non-null   object \n",
      " 10  title                  129971 non-null  object \n",
      " 11  variety                129970 non-null  object \n",
      " 12  winery                 129971 non-null  object \n",
      "dtypes: float64(1), int64(1), object(11)\n",
      "memory usage: 13.9+ MB\n"
     ]
    }
   ],
   "source": [
    "data.info()"
   ]
  },
  {
   "cell_type": "markdown",
   "metadata": {},
   "source": [
    "## 1 数据预处理\n",
    "我们主要关注points、price、variety、country、winery、taster_name字段的属性，并对其进行分析。首先我们保留这些字段，剔除不需要的字段内容。"
   ]
  },
  {
   "cell_type": "code",
   "execution_count": 4,
   "metadata": {},
   "outputs": [
    {
     "name": "stdout",
     "output_type": "stream",
     "text": [
      "<class 'pandas.core.frame.DataFrame'>\n",
      "Int64Index: 129971 entries, 0 to 129970\n",
      "Data columns (total 4 columns):\n",
      " #   Column       Non-Null Count   Dtype \n",
      "---  ------       --------------   ----- \n",
      " 0   country      129908 non-null  object\n",
      " 1   taster_name  103727 non-null  object\n",
      " 2   variety      129970 non-null  object\n",
      " 3   winery       129971 non-null  object\n",
      "dtypes: object(4)\n",
      "memory usage: 5.0+ MB\n"
     ]
    }
   ],
   "source": [
    "# 剔除不需要的字段\n",
    "wine = data.copy()\n",
    "wine.drop('points',axis=1,inplace=True)\n",
    "wine.drop('price',axis=1,inplace=True)\n",
    "wine.drop('description',axis=1,inplace=True)\n",
    "wine.drop('designation',axis=1,inplace=True)\n",
    "wine.drop('province',axis=1,inplace=True)\n",
    "wine.drop('region_1',axis=1,inplace=True)\n",
    "wine.drop('region_2',axis=1,inplace=True)\n",
    "wine.drop('taster_twitter_handle',axis=1,inplace=True)\n",
    "wine.drop('title',axis=1,inplace=True)\n",
    "wine.info()"
   ]
  },
  {
   "cell_type": "markdown",
   "metadata": {},
   "source": [
    "根据上表可以看到，数据中仍然存在大量的缺失数据，我们需要对缺失数据进行处理。为了防止缺失数据处理可能对数据统计分布造成的偏差，采用将存在数据缺失的行直接剔除的方法进行处理。"
   ]
  },
  {
   "cell_type": "code",
   "execution_count": 5,
   "metadata": {},
   "outputs": [
    {
     "name": "stdout",
     "output_type": "stream",
     "text": [
      "<class 'pandas.core.frame.DataFrame'>\n",
      "Int64Index: 103664 entries, 0 to 129970\n",
      "Data columns (total 4 columns):\n",
      " #   Column       Non-Null Count   Dtype \n",
      "---  ------       --------------   ----- \n",
      " 0   country      103664 non-null  object\n",
      " 1   taster_name  103664 non-null  object\n",
      " 2   variety      103664 non-null  object\n",
      " 3   winery       103664 non-null  object\n",
      "dtypes: object(4)\n",
      "memory usage: 4.0+ MB\n"
     ]
    }
   ],
   "source": [
    "wine.dropna(inplace=True)\n",
    "wine.info()"
   ]
  },
  {
   "cell_type": "markdown",
   "metadata": {},
   "source": [
    "## 2 寻找频繁模式\n",
    "这里使用pyfpgrowth库进行频繁模式挖掘"
   ]
  },
  {
   "cell_type": "code",
   "execution_count": 6,
   "metadata": {},
   "outputs": [
    {
     "name": "stdout",
     "output_type": "stream",
     "text": [
      "patterns number:644\n",
      "top 10 patterns\n",
      "(('US',), 37730)\n",
      "(('Roger Voss',), 25512)\n",
      "(('France',), 21828)\n",
      "(('France', 'Roger Voss'), 18602)\n",
      "(('Michael Schachner',), 15127)\n",
      "(('Italy',), 11042)\n",
      "(('Kerin O’Keefe',), 10776)\n",
      "(('Italy', 'Kerin O’Keefe'), 10776)\n",
      "(('Virginie Boone',), 9537)\n",
      "(('US', 'Virginie Boone'), 9537)\n"
     ]
    }
   ],
   "source": [
    "# 提取pattern 可以指定pattern的频率阈值\n",
    "patterns = pyfpgrowth.find_frequent_patterns(np.array(wine), 100)\n",
    "print(f'patterns number:{len(patterns)}')\n",
    "# 输出频率前10的patterns\n",
    "a = sorted(patterns.items(),key=lambda kv: (kv[1],kv[0]),reverse=True)\n",
    "print(f'top 10 patterns')\n",
    "for i in a[:10]:\n",
    "\tprint(i)"
   ]
  },
  {
   "cell_type": "markdown",
   "metadata": {},
   "source": [
    "## 3 导出关联规则"
   ]
  },
  {
   "cell_type": "code",
   "execution_count": 7,
   "metadata": {},
   "outputs": [],
   "source": [
    "def col_name(s):\n",
    "\ts = [s] if isinstance(s, str) else s\n",
    "\tseriesObj = wine.isin(s).any()\n",
    "\treturn list(seriesObj[seriesObj].index)"
   ]
  },
  {
   "cell_type": "code",
   "execution_count": 8,
   "metadata": {},
   "outputs": [
    {
     "name": "stdout",
     "output_type": "stream",
     "text": [
      "rules number:333\n",
      "top 10 rules\n",
      "('Wines & Winemakers',)      (('Portugal', 'Roger Voss'), 1.0)\n",
      "('Viura',)      (('Michael Schachner', 'Spain'), 1.0)\n",
      "('Virginie Boone', 'Zinfandel')      (('US',), 1.0)\n",
      "('Virginie Boone',)      (('US',), 1.0)\n",
      "('Verdicchio',)      (('Italy', 'Kerin O’Keefe'), 1.0)\n",
      "('Uruguay',)      (('Michael Schachner',), 1.0)\n",
      "('Undurraga',)      (('Chile', 'Michael Schachner'), 1.0)\n",
      "('Turbiana',)      (('Italy', 'Kerin O’Keefe'), 1.0)\n",
      "('Trapiche',)      (('Argentina', 'Michael Schachner'), 1.0)\n",
      "('Tinto Fino',)      (('Michael Schachner', 'Spain'), 1.0)\n"
     ]
    }
   ],
   "source": [
    "# 提取关联规则\n",
    "rules = pyfpgrowth.generate_association_rules(patterns, 0.7)\n",
    "print(f'rules number:{len(rules)}')\n",
    "# 输出频率前10的关联规则\n",
    "print(f'top 10 rules')\n",
    "a = sorted(rules.items(),key=lambda kv: (kv[1][1],kv[0]),reverse=True)\n",
    "for k,v in a[:10]:\n",
    "\tprint(k,'    ',v)\n",
    "# 输出所属的数据列\n",
    "# print()\n",
    "# for k,v in a[:10]:\n",
    "# \tprint(col_name(k), '    ',col_name(v[0]))"
   ]
  },
  {
   "cell_type": "markdown",
   "metadata": {},
   "source": [
    "我们从上面提取出的关联规则中选取置信度高、中、低的三条数据进行展示。"
   ]
  },
  {
   "cell_type": "code",
   "execution_count": 9,
   "metadata": {},
   "outputs": [
    {
     "name": "stdout",
     "output_type": "stream",
     "text": [
      "column name:\n",
      "['winery']      ['country', 'taster_name']\n",
      "['country', 'variety']      ['taster_name']\n",
      "['variety']      ['country']\n"
     ]
    }
   ],
   "source": [
    "# 选取的关联关系\n",
    "rul = {\n",
    "\t('Wines & Winemakers',) : (('Portugal', 'Roger Voss'), 1.0),\n",
    "\t('Chile', 'Merlot')\t\t: (('Michael Schachner',),     0.9754098360655737),\n",
    "\t('Petit Verdot',)\t\t: (('US',),                     0.7887323943661971)\n",
    "}\n",
    "# 输出所属的数据列\n",
    "print(\"column name:\")\n",
    "for k,v in rul.items():\n",
    "\tprint(col_name(k), '    ',col_name(v[0]))\n"
   ]
  },
  {
   "cell_type": "markdown",
   "metadata": {},
   "source": [
    "## 4 关联规则评价\n",
    "我们使用LIFT、卡方值来检验关联规则。下面我们定义几个计算评估指标的函数。"
   ]
  },
  {
   "cell_type": "code",
   "execution_count": 10,
   "metadata": {},
   "outputs": [],
   "source": [
    "def collect_has_row(data,pattern):\n",
    "\t\"\"\"从data中获取 包含 pattern的所有数据行\"\"\"\n",
    "\ta = data.copy()\n",
    "\tpattern = [pattern] if isinstance(pattern, str) else pattern\n",
    "\tfor p in pattern:\n",
    "\t\ta = a[a[col_name(p)[0]].str.contains(p)]\t# 包含当前值的行\n",
    "\treturn a\n",
    "\n",
    "def collect_not_row(data,pattern):\n",
    "\t\"\"\"从data中获取 不包含 pattern的所有数据行\"\"\"\n",
    "\ta = data.copy()\n",
    "\tpattern = [pattern] if isinstance(pattern, str) else pattern\n",
    "\tfor p in pattern:\n",
    "\t\ta = a[~a[col_name(p)[0]].str.contains(p)]\t# 包含当前值的行\n",
    "\treturn a\n",
    "\n",
    "def lift(data):\n",
    "\t\"\"\"lift值计算\"\"\"\n",
    "\tn = np.sum(data)\n",
    "\ta,b,c,d = data.reshape(-1)\n",
    "\treturn (a * n)/((a+c)*(a+b))\n",
    "\n",
    "def ch2(data):\n",
    "\t\"\"\"卡方值计算\"\"\"\n",
    "\tn = np.sum(data)\n",
    "\ta ,b,c,d = data.reshape(-1)\n",
    "\treturn n*np.square(a*d-b*c) / ((a+b)*(c+d)*(a+c)*(b+d))\n"
   ]
  },
  {
   "cell_type": "code",
   "execution_count": 11,
   "metadata": {},
   "outputs": [
    {
     "name": "stderr",
     "output_type": "stream",
     "text": [
      "/tmp/ipykernel_3542/2708160128.py:27: RuntimeWarning: overflow encountered in long_scalars\n",
      "  return n*np.square(a*d-b*c) / ((a+b)*(c+d)*(a+c)*(b+d))\n"
     ]
    },
    {
     "data": {
      "image/png": "[encoded data removed]",
      "text/plain": [
       "<Figure size 432x288 with 1 Axes>"
      ]
     },
     "metadata": {
      "needs_background": "light"
     },
     "output_type": "display_data"
    },
    {
     "data": {
      "image/png": "[encoded data removed]",
      "text/plain": [
       "<Figure size 432x288 with 1 Axes>"
      ]
     },
     "metadata": {
      "needs_background": "light"
     },
     "output_type": "display_data"
    }
   ],
   "source": [
    "# 计算所有规则的lift值、卡方值并绘制图表\n",
    "ch2_val = []\n",
    "lift_val = []\n",
    "for k,v in rules.items():\n",
    "\trow = collect_has_row(wine,k)\t# 包含k的行\n",
    "\ta1 = collect_has_row(row,v[0]).size\t# TT\n",
    "\ta2 = row.size - a1\t\t\t\t# TF\n",
    "\n",
    "\trow = collect_not_row(wine,v[0]) # 不包含包含k的行\n",
    "\tb1 = collect_has_row(row,k).size\t# FT\n",
    "\tb2 = row.size - b1\n",
    "\ta = np.array([[a1,a2],[b1,b2]])\n",
    "\tch2_val.append(ch2(a))\n",
    "\tlift_val.append(lift(a))\n",
    "\n",
    "plt.title('LIFT')\n",
    "plt.plot(range(len(ch2_val)),ch2_val)\n",
    "plt.show()\n",
    "plt.title('ch2')\n",
    "plt.plot(range(len(lift_val)),lift_val)\n",
    "plt.show()\n"
   ]
  },
  {
   "cell_type": "markdown",
   "metadata": {},
   "source": [
    "上图是对所有挖掘出的关联关系进行LIFT值、卡方值计算的结果。对于LIFT值来说，小于1说明它们负相关，大于1说明它们正相关。对于卡方值来说，越大则说明它们之间的相关关系越强。\n",
    "\n",
    "因此从图中我们可以得到如下结论：\n",
    "\n",
    "* 对于绝大多数所挖掘到的关联关系，它们的卡方值均非常大，这说明它们之间的关联关系非常强\n",
    "* 各个规则之间有的呈现正相关，有的呈现负相关，且基本比例相等"
   ]
  },
  {
   "cell_type": "markdown",
   "metadata": {},
   "source": [
    "此外，我们知道酒的评分和酒的价格之间应该有比较强的相关关系，我们又绘制了如下的表格。"
   ]
  },
  {
   "cell_type": "code",
   "execution_count": 12,
   "metadata": {},
   "outputs": [
    {
     "data": {
      "text/plain": [
       "<AxesSubplot:xlabel='points', ylabel='price'>"
      ]
     },
     "execution_count": 12,
     "metadata": {},
     "output_type": "execute_result"
    },
    {
     "data": {
      "image/png": "[encoded data removed]",
      "text/plain": [
       "<Figure size 432x288 with 1 Axes>"
      ]
     },
     "metadata": {
      "needs_background": "light"
     },
     "output_type": "display_data"
    }
   ],
   "source": [
    "# data.scatterplot(kind='bar',x='points',y='price')\n",
    "sns.scatterplot(x='points',y='price',data=data)"
   ]
  },
  {
   "cell_type": "markdown",
   "metadata": {},
   "source": [
    "## 5 结果分析\n",
    "我们从关联规则中选取一些规则进行分析，并得到它们之间的相关结论"
   ]
  },
  {
   "cell_type": "code",
   "execution_count": 13,
   "metadata": {},
   "outputs": [
    {
     "name": "stdout",
     "output_type": "stream",
     "text": [
      "column name:\n",
      "['winery']      ['country', 'taster_name']\n",
      "['country', 'variety']      ['taster_name']\n",
      "['variety']      ['country']\n"
     ]
    },
    {
     "name": "stderr",
     "output_type": "stream",
     "text": [
      "/tmp/ipykernel_3542/2708160128.py:27: RuntimeWarning: overflow encountered in long_scalars\n",
      "  return n*np.square(a*d-b*c) / ((a+b)*(c+d)*(a+c)*(b+d))\n"
     ]
    },
    {
     "data": {
      "image/png": "[encoded data removed]",
      "text/plain": [
       "<Figure size 864x288 with 2 Axes>"
      ]
     },
     "metadata": {
      "needs_background": "light"
     },
     "output_type": "display_data"
    }
   ],
   "source": [
    "# 选取的关联关系\n",
    "rules = {\n",
    "\t('Wines & Winemakers',) : (('Portugal', 'Roger Voss'), 1.0),\n",
    "\t('Chile', 'Merlot')\t\t: (('Michael Schachner',),     0.9754098360655737),\n",
    "\t('Petit Verdot',)\t\t: (('US',),                     0.7887323943661971)\n",
    "}\n",
    "# 输出所属的数据列\n",
    "print(\"column name:\")\n",
    "for k,v in rules.items():\n",
    "\tprint(col_name(k), '    ',col_name(v[0]))\n",
    "# 计算lift、卡方值\n",
    "ch2_val = []\n",
    "lift_val = []\n",
    "for k,v in rules.items():\n",
    "\trow = collect_has_row(wine,k)\t# 包含k的行\n",
    "\ta1 = collect_has_row(row,v[0]).size\t# TT\n",
    "\ta2 = row.size - a1\t\t\t\t# TF\n",
    "\n",
    "\trow = collect_not_row(wine,v[0]) # 不包含包含k的行\n",
    "\tb1 = collect_has_row(row,k).size\t# FT\n",
    "\tb2 = row.size - b1\n",
    "\ta = np.array([[a1,a2],[b1,b2]])\n",
    "\tch2_val.append(ch2(a))\n",
    "\tlift_val.append(lift(a))\n",
    "\n",
    "plt.figure(figsize=(12,4))\n",
    "plt.subplot(1,2,1)\n",
    "plt.title('LIFT')\n",
    "plt.plot(range(len(ch2_val)),ch2_val)\n",
    "\n",
    "plt.subplot(1,2,2)\n",
    "plt.title('ch2')\n",
    "plt.plot(range(len(lift_val)),lift_val)\n",
    "plt.show()"
   ]
  },
  {
   "cell_type": "markdown",
   "metadata": {},
   "source": [
    "根据上图的结果，我们相信此三条关联关系的可信度和关联关系。因此我们可以做如下结论：\n",
    "\n",
    "1. 酒厂：Wines & Winemakers、国家：Portugal、品酒师：Roger Voss，具有很强的关联关系。说明此酒厂很可能位于此国家，而这名品酒师经常为这间酒厂的产品进行品鉴\n",
    "2. 葡萄：Merlot、国家：Chile、品酒师：Michael Schachner，具有很强的关联关系。说明此Chile适合种种只Merlot葡萄，并且这名品酒师的国籍是Chile\n",
    "3. 葡萄：Petit Verdot、国家：US，具有很强的关联关系。说明此US适合种植Petit Verdot葡萄。"
   ]
  }
 ],
 "metadata": {
  "interpreter": {
   "hash": "a8f61be024eba58adef938c9aa1e29e02cb3dece83a5348b1a2dafd16a070453"
  },
  "kernelspec": {
   "display_name": "Python 3.8.8 ('base')",
   "language": "python",
   "name": "python3"
  },
  "language_info": {
   "codemirror_mode": {
    "name": "ipython",
    "version": 3
   },
   "file_extension": ".py",
   "mimetype": "text/x-python",
   "name": "python",
   "nbconvert_exporter": "python",
   "pygments_lexer": "ipython3",
   "version": "3.9.7"
  },
  "orig_nbformat": 4
 },
 "nbformat": 4,
 "nbformat_minor": 2
}
